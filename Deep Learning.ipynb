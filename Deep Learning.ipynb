{
  "nbformat": 4,
  "nbformat_minor": 0,
  "metadata": {
    "colab": {
      "provenance": []
    },
    "kernelspec": {
      "name": "python3",
      "display_name": "Python 3"
    },
    "language_info": {
      "name": "python"
    },
    "accelerator": "GPU",
    "gpuClass": "standard"
  },
  "cells": [
    {
      "cell_type": "code",
      "execution_count": null,
      "metadata": {
        "id": "Crf23-SgLsyi"
      },
      "outputs": [],
      "source": [
        "import tensorflow as tf\n",
        "import numpy as np\n",
        "import pandas as pd\n",
        "import seaborn as sns\n",
        "import matplotlib.pyplot as plt\n",
        "from sklearn.datasets import fetch_california_housing\n",
        "from sklearn.model_selection import train_test_split\n",
        "from tensorflow.keras.utils import plot_model"
      ]
    },
    {
      "cell_type": "code",
      "source": [
        "cal = fetch_california_housing(as_frame=True)"
      ],
      "metadata": {
        "id": "Kj_uCukTM0kZ"
      },
      "execution_count": null,
      "outputs": []
    },
    {
      "cell_type": "code",
      "source": [
        "df = pd.DataFrame(cal.frame)"
      ],
      "metadata": {
        "id": "emcvnprkPFwy"
      },
      "execution_count": null,
      "outputs": []
    },
    {
      "cell_type": "code",
      "source": [
        "df.head()"
      ],
      "metadata": {
        "colab": {
          "base_uri": "https://localhost:8080/",
          "height": 206
        },
        "id": "hrcaqd3fPY0_",
        "outputId": "d5a9db77-7602-4e4a-c284-629774dcf77a"
      },
      "execution_count": null,
      "outputs": [
        {
          "output_type": "execute_result",
          "data": {
            "text/plain": [
              "   MedInc  HouseAge  AveRooms  AveBedrms  Population  AveOccup  Latitude  \\\n",
              "0  8.3252      41.0  6.984127   1.023810       322.0  2.555556     37.88   \n",
              "1  8.3014      21.0  6.238137   0.971880      2401.0  2.109842     37.86   \n",
              "2  7.2574      52.0  8.288136   1.073446       496.0  2.802260     37.85   \n",
              "3  5.6431      52.0  5.817352   1.073059       558.0  2.547945     37.85   \n",
              "4  3.8462      52.0  6.281853   1.081081       565.0  2.181467     37.85   \n",
              "\n",
              "   Longitude  MedHouseVal  \n",
              "0    -122.23        4.526  \n",
              "1    -122.22        3.585  \n",
              "2    -122.24        3.521  \n",
              "3    -122.25        3.413  \n",
              "4    -122.25        3.422  "
            ],
            "text/html": [
              "\n",
              "  <div id=\"df-1585e380-ef8b-4b80-bb8b-0520f91e9e22\">\n",
              "    <div class=\"colab-df-container\">\n",
              "      <div>\n",
              "<style scoped>\n",
              "    .dataframe tbody tr th:only-of-type {\n",
              "        vertical-align: middle;\n",
              "    }\n",
              "\n",
              "    .dataframe tbody tr th {\n",
              "        vertical-align: top;\n",
              "    }\n",
              "\n",
              "    .dataframe thead th {\n",
              "        text-align: right;\n",
              "    }\n",
              "</style>\n",
              "<table border=\"1\" class=\"dataframe\">\n",
              "  <thead>\n",
              "    <tr style=\"text-align: right;\">\n",
              "      <th></th>\n",
              "      <th>MedInc</th>\n",
              "      <th>HouseAge</th>\n",
              "      <th>AveRooms</th>\n",
              "      <th>AveBedrms</th>\n",
              "      <th>Population</th>\n",
              "      <th>AveOccup</th>\n",
              "      <th>Latitude</th>\n",
              "      <th>Longitude</th>\n",
              "      <th>MedHouseVal</th>\n",
              "    </tr>\n",
              "  </thead>\n",
              "  <tbody>\n",
              "    <tr>\n",
              "      <th>0</th>\n",
              "      <td>8.3252</td>\n",
              "      <td>41.0</td>\n",
              "      <td>6.984127</td>\n",
              "      <td>1.023810</td>\n",
              "      <td>322.0</td>\n",
              "      <td>2.555556</td>\n",
              "      <td>37.88</td>\n",
              "      <td>-122.23</td>\n",
              "      <td>4.526</td>\n",
              "    </tr>\n",
              "    <tr>\n",
              "      <th>1</th>\n",
              "      <td>8.3014</td>\n",
              "      <td>21.0</td>\n",
              "      <td>6.238137</td>\n",
              "      <td>0.971880</td>\n",
              "      <td>2401.0</td>\n",
              "      <td>2.109842</td>\n",
              "      <td>37.86</td>\n",
              "      <td>-122.22</td>\n",
              "      <td>3.585</td>\n",
              "    </tr>\n",
              "    <tr>\n",
              "      <th>2</th>\n",
              "      <td>7.2574</td>\n",
              "      <td>52.0</td>\n",
              "      <td>8.288136</td>\n",
              "      <td>1.073446</td>\n",
              "      <td>496.0</td>\n",
              "      <td>2.802260</td>\n",
              "      <td>37.85</td>\n",
              "      <td>-122.24</td>\n",
              "      <td>3.521</td>\n",
              "    </tr>\n",
              "    <tr>\n",
              "      <th>3</th>\n",
              "      <td>5.6431</td>\n",
              "      <td>52.0</td>\n",
              "      <td>5.817352</td>\n",
              "      <td>1.073059</td>\n",
              "      <td>558.0</td>\n",
              "      <td>2.547945</td>\n",
              "      <td>37.85</td>\n",
              "      <td>-122.25</td>\n",
              "      <td>3.413</td>\n",
              "    </tr>\n",
              "    <tr>\n",
              "      <th>4</th>\n",
              "      <td>3.8462</td>\n",
              "      <td>52.0</td>\n",
              "      <td>6.281853</td>\n",
              "      <td>1.081081</td>\n",
              "      <td>565.0</td>\n",
              "      <td>2.181467</td>\n",
              "      <td>37.85</td>\n",
              "      <td>-122.25</td>\n",
              "      <td>3.422</td>\n",
              "    </tr>\n",
              "  </tbody>\n",
              "</table>\n",
              "</div>\n",
              "      <button class=\"colab-df-convert\" onclick=\"convertToInteractive('df-1585e380-ef8b-4b80-bb8b-0520f91e9e22')\"\n",
              "              title=\"Convert this dataframe to an interactive table.\"\n",
              "              style=\"display:none;\">\n",
              "        \n",
              "  <svg xmlns=\"http://www.w3.org/2000/svg\" height=\"24px\"viewBox=\"0 0 24 24\"\n",
              "       width=\"24px\">\n",
              "    <path d=\"M0 0h24v24H0V0z\" fill=\"none\"/>\n",
              "    <path d=\"M18.56 5.44l.94 2.06.94-2.06 2.06-.94-2.06-.94-.94-2.06-.94 2.06-2.06.94zm-11 1L8.5 8.5l.94-2.06 2.06-.94-2.06-.94L8.5 2.5l-.94 2.06-2.06.94zm10 10l.94 2.06.94-2.06 2.06-.94-2.06-.94-.94-2.06-.94 2.06-2.06.94z\"/><path d=\"M17.41 7.96l-1.37-1.37c-.4-.4-.92-.59-1.43-.59-.52 0-1.04.2-1.43.59L10.3 9.45l-7.72 7.72c-.78.78-.78 2.05 0 2.83L4 21.41c.39.39.9.59 1.41.59.51 0 1.02-.2 1.41-.59l7.78-7.78 2.81-2.81c.8-.78.8-2.07 0-2.86zM5.41 20L4 18.59l7.72-7.72 1.47 1.35L5.41 20z\"/>\n",
              "  </svg>\n",
              "      </button>\n",
              "      \n",
              "  <style>\n",
              "    .colab-df-container {\n",
              "      display:flex;\n",
              "      flex-wrap:wrap;\n",
              "      gap: 12px;\n",
              "    }\n",
              "\n",
              "    .colab-df-convert {\n",
              "      background-color: #E8F0FE;\n",
              "      border: none;\n",
              "      border-radius: 50%;\n",
              "      cursor: pointer;\n",
              "      display: none;\n",
              "      fill: #1967D2;\n",
              "      height: 32px;\n",
              "      padding: 0 0 0 0;\n",
              "      width: 32px;\n",
              "    }\n",
              "\n",
              "    .colab-df-convert:hover {\n",
              "      background-color: #E2EBFA;\n",
              "      box-shadow: 0px 1px 2px rgba(60, 64, 67, 0.3), 0px 1px 3px 1px rgba(60, 64, 67, 0.15);\n",
              "      fill: #174EA6;\n",
              "    }\n",
              "\n",
              "    [theme=dark] .colab-df-convert {\n",
              "      background-color: #3B4455;\n",
              "      fill: #D2E3FC;\n",
              "    }\n",
              "\n",
              "    [theme=dark] .colab-df-convert:hover {\n",
              "      background-color: #434B5C;\n",
              "      box-shadow: 0px 1px 3px 1px rgba(0, 0, 0, 0.15);\n",
              "      filter: drop-shadow(0px 1px 2px rgba(0, 0, 0, 0.3));\n",
              "      fill: #FFFFFF;\n",
              "    }\n",
              "  </style>\n",
              "\n",
              "      <script>\n",
              "        const buttonEl =\n",
              "          document.querySelector('#df-1585e380-ef8b-4b80-bb8b-0520f91e9e22 button.colab-df-convert');\n",
              "        buttonEl.style.display =\n",
              "          google.colab.kernel.accessAllowed ? 'block' : 'none';\n",
              "\n",
              "        async function convertToInteractive(key) {\n",
              "          const element = document.querySelector('#df-1585e380-ef8b-4b80-bb8b-0520f91e9e22');\n",
              "          const dataTable =\n",
              "            await google.colab.kernel.invokeFunction('convertToInteractive',\n",
              "                                                     [key], {});\n",
              "          if (!dataTable) return;\n",
              "\n",
              "          const docLinkHtml = 'Like what you see? Visit the ' +\n",
              "            '<a target=\"_blank\" href=https://colab.research.google.com/notebooks/data_table.ipynb>data table notebook</a>'\n",
              "            + ' to learn more about interactive tables.';\n",
              "          element.innerHTML = '';\n",
              "          dataTable['output_type'] = 'display_data';\n",
              "          await google.colab.output.renderOutput(dataTable, element);\n",
              "          const docLink = document.createElement('div');\n",
              "          docLink.innerHTML = docLinkHtml;\n",
              "          element.appendChild(docLink);\n",
              "        }\n",
              "      </script>\n",
              "    </div>\n",
              "  </div>\n",
              "  "
            ]
          },
          "metadata": {},
          "execution_count": 26
        }
      ]
    },
    {
      "cell_type": "code",
      "source": [
        "df.columns"
      ],
      "metadata": {
        "colab": {
          "base_uri": "https://localhost:8080/"
        },
        "id": "ek-9V6P2Pklh",
        "outputId": "ef2480e8-c239-49d3-e4d2-5fa4c5e6f839"
      },
      "execution_count": null,
      "outputs": [
        {
          "output_type": "execute_result",
          "data": {
            "text/plain": [
              "Index(['MedInc', 'HouseAge', 'AveRooms', 'AveBedrms', 'Population', 'AveOccup',\n",
              "       'Latitude', 'Longitude', 'MedHouseVal'],\n",
              "      dtype='object')"
            ]
          },
          "metadata": {},
          "execution_count": 27
        }
      ]
    },
    {
      "cell_type": "code",
      "source": [
        "X = df[['MedInc', 'HouseAge', 'AveRooms', 'AveBedrms', 'Population', 'AveOccup', 'Latitude', 'Longitude']]\n",
        "y = df[['MedHouseVal']]"
      ],
      "metadata": {
        "id": "I9DYVvOXPzOX"
      },
      "execution_count": null,
      "outputs": []
    },
    {
      "cell_type": "code",
      "source": [
        "X_train, X_test, y_train, y_test = train_test_split(X, y, test_size=0.3, random_state=42)"
      ],
      "metadata": {
        "id": "EQ32bJMDQEVZ"
      },
      "execution_count": null,
      "outputs": []
    },
    {
      "cell_type": "code",
      "source": [
        "model = tf.keras.Sequential()\n",
        "model.add(tf.keras.layers.InputLayer(input_shape = (8, 1)))\n",
        "model.add(tf.keras.layers.Dense(30, activation = \"relu\"))\n",
        "model.add(tf.keras.layers.Dense(1, activation = \"relu\"))\n",
        "\n",
        "model.summary()"
      ],
      "metadata": {
        "colab": {
          "base_uri": "https://localhost:8080/"
        },
        "id": "l0-L5xcrQNcu",
        "outputId": "d6c5c6a3-325d-4cc8-f4b1-5764f49b79d2"
      },
      "execution_count": null,
      "outputs": [
        {
          "output_type": "stream",
          "name": "stdout",
          "text": [
            "Model: \"sequential_1\"\n",
            "_________________________________________________________________\n",
            " Layer (type)                Output Shape              Param #   \n",
            "=================================================================\n",
            " dense_5 (Dense)             (None, 8, 30)             60        \n",
            "                                                                 \n",
            " dense_6 (Dense)             (None, 8, 1)              31        \n",
            "                                                                 \n",
            "=================================================================\n",
            "Total params: 91\n",
            "Trainable params: 91\n",
            "Non-trainable params: 0\n",
            "_________________________________________________________________\n"
          ]
        }
      ]
    },
    {
      "cell_type": "code",
      "source": [
        "model.compile(loss = \"MeanSquaredError\", optimizer = tf.keras.optimizers.Adam())"
      ],
      "metadata": {
        "id": "4B15tDSbQzdp"
      },
      "execution_count": null,
      "outputs": []
    },
    {
      "cell_type": "code",
      "source": [
        "history = model.fit(X_train, y_train, epochs=20, validation_data=(X_test, y_test))"
      ],
      "metadata": {
        "colab": {
          "base_uri": "https://localhost:8080/"
        },
        "id": "2GVQYxamRFiy",
        "outputId": "cf83fe13-16e4-4dbf-e665-a8293e5bf65f"
      },
      "execution_count": null,
      "outputs": [
        {
          "output_type": "stream",
          "name": "stdout",
          "text": [
            "Epoch 1/20\n",
            "452/452 [==============================] - 3s 5ms/step - loss: 8.7592 - val_loss: 5.0515\n",
            "Epoch 2/20\n",
            "452/452 [==============================] - 2s 4ms/step - loss: 5.0865 - val_loss: 5.0507\n",
            "Epoch 3/20\n",
            "452/452 [==============================] - 2s 4ms/step - loss: 5.0867 - val_loss: 5.0521\n",
            "Epoch 4/20\n",
            "452/452 [==============================] - 2s 4ms/step - loss: 5.0870 - val_loss: 5.0535\n",
            "Epoch 5/20\n",
            "452/452 [==============================] - 2s 4ms/step - loss: 5.0873 - val_loss: 5.0506\n",
            "Epoch 6/20\n",
            "452/452 [==============================] - 2s 4ms/step - loss: 5.0873 - val_loss: 5.0522\n",
            "Epoch 7/20\n",
            "452/452 [==============================] - 2s 4ms/step - loss: 5.0875 - val_loss: 5.0511\n",
            "Epoch 8/20\n",
            "452/452 [==============================] - 2s 4ms/step - loss: 5.0883 - val_loss: 5.0540\n",
            "Epoch 9/20\n",
            "452/452 [==============================] - 2s 4ms/step - loss: 5.0883 - val_loss: 5.0508\n",
            "Epoch 10/20\n",
            "452/452 [==============================] - 2s 4ms/step - loss: 5.0885 - val_loss: 5.0620\n",
            "Epoch 11/20\n",
            "452/452 [==============================] - 2s 4ms/step - loss: 5.0897 - val_loss: 5.0507\n",
            "Epoch 12/20\n",
            "452/452 [==============================] - 2s 4ms/step - loss: 5.0926 - val_loss: 5.0518\n",
            "Epoch 13/20\n",
            "452/452 [==============================] - 2s 4ms/step - loss: 5.0914 - val_loss: 5.0585\n",
            "Epoch 14/20\n",
            "452/452 [==============================] - 2s 4ms/step - loss: 5.0924 - val_loss: 5.0545\n",
            "Epoch 15/20\n",
            "452/452 [==============================] - 2s 4ms/step - loss: 5.0909 - val_loss: 5.0563\n",
            "Epoch 16/20\n",
            "452/452 [==============================] - 2s 4ms/step - loss: 5.0911 - val_loss: 5.0639\n",
            "Epoch 17/20\n",
            "452/452 [==============================] - 2s 4ms/step - loss: 5.0937 - val_loss: 5.0579\n",
            "Epoch 18/20\n",
            "452/452 [==============================] - 2s 4ms/step - loss: 5.0931 - val_loss: 5.0514\n",
            "Epoch 19/20\n",
            "452/452 [==============================] - 2s 4ms/step - loss: 5.0902 - val_loss: 5.0553\n",
            "Epoch 20/20\n",
            "452/452 [==============================] - 2s 4ms/step - loss: 5.0921 - val_loss: 5.0835\n"
          ]
        }
      ]
    },
    {
      "cell_type": "code",
      "source": [
        "sns.set_style(\"darkgrid\")\n",
        "#get the details form the history object\n",
        "loss = history.history['loss']\n",
        "val_loss = history.history['val_loss']\n",
        "\n",
        "epochs = range(1, len(loss) + 1)\n",
        "\n",
        "plt.figure()\n",
        "#Train and validation loss\n",
        "plt.plot(epochs, loss, 'b', label='Training loss')\n",
        "plt.plot(epochs, val_loss, 'r', label='Validation loss')\n",
        "plt.xlabel('Epoch #')\n",
        "plt.ylabel('loss')\n",
        "plt.title('Training and Validation loss')\n",
        "plt.legend()\n",
        "\n",
        "plt.show()"
      ],
      "metadata": {
        "colab": {
          "base_uri": "https://localhost:8080/",
          "height": 295
        },
        "id": "4CiMIuX_RLpS",
        "outputId": "0ac3f908-d6d3-46cb-8977-11a4fb6f431c"
      },
      "execution_count": null,
      "outputs": [
        {
          "output_type": "display_data",
          "data": {
            "text/plain": [
              "<Figure size 432x288 with 1 Axes>"
            ],
            "image/png": "[encoded data removed]"
          },
          "metadata": {}
        }
      ]
    },
    {
      "cell_type": "code",
      "source": [
        "feature1 = df[['MedInc', 'HouseAge', 'AveRooms', 'AveBedrms', 'Population']]\n",
        "feature2 = df[['AveRooms', 'AveBedrms', 'Population', 'AveOccup', 'Latitude', 'Longitude']]"
      ],
      "metadata": {
        "id": "YvIcseexRfjv"
      },
      "execution_count": null,
      "outputs": []
    },
    {
      "cell_type": "code",
      "source": [
        "InputA = tf.keras.Input(shape=(5,1))\n",
        "InputB = tf.keras.Input(shape=(6,1))\n",
        "x = tf.keras.layers.Dense(30, activation = \"relu\")(InputB)\n",
        "x1 = tf.keras.layers.Dense(30, activation = \"relu\")(x)\n",
        "x2 = tf.keras.layers.Flatten()(x1)\n",
        "x3 = tf.keras.layers.Flatten()(InputA)\n",
        "a_b = tf.keras.layers.concatenate([x2, x3],name=\"concatenated_layer\")\n",
        "x4 = tf.keras.layers.Dense(1, activation = \"relu\")(a_b)\n",
        "model = tf.keras.models.Model(inputs=[(InputA, InputB)],outputs=[x4])\n"
      ],
      "metadata": {
        "id": "AESuUHr4XLPt"
      },
      "execution_count": null,
      "outputs": []
    },
    {
      "cell_type": "code",
      "source": [
        "plot_model(model, show_shapes=True)"
      ],
      "metadata": {
        "colab": {
          "base_uri": "https://localhost:8080/",
          "height": 644
        },
        "id": "kyl4v_m_XM2f",
        "outputId": "c0598a52-4f44-4c8c-b4e7-9bcc34538e9a"
      },
      "execution_count": null,
      "outputs": [
        {
          "output_type": "execute_result",
          "data": {
            "image/png": "[encoded data removed]",
            "text/plain": [
              "<IPython.core.display.Image object>"
            ]
          },
          "metadata": {},
          "execution_count": 36
        }
      ]
    },
    {
      "cell_type": "code",
      "source": [
        "model.summary()"
      ],
      "metadata": {
        "colab": {
          "base_uri": "https://localhost:8080/"
        },
        "id": "MPYKIRRia5j7",
        "outputId": "77320386-236d-41d2-9606-5e337c1152dd"
      },
      "execution_count": null,
      "outputs": [
        {
          "output_type": "stream",
          "name": "stdout",
          "text": [
            "Model: \"model_1\"\n",
            "__________________________________________________________________________________________________\n",
            " Layer (type)                   Output Shape         Param #     Connected to                     \n",
            "==================================================================================================\n",
            " input_6 (InputLayer)           [(None, 6, 1)]       0           []                               \n",
            "                                                                                                  \n",
            " dense_7 (Dense)                (None, 6, 30)        60          ['input_6[0][0]']                \n",
            "                                                                                                  \n",
            " dense_8 (Dense)                (None, 6, 30)        930         ['dense_7[0][0]']                \n",
            "                                                                                                  \n",
            " input_5 (InputLayer)           [(None, 5, 1)]       0           []                               \n",
            "                                                                                                  \n",
            " flatten_2 (Flatten)            (None, 180)          0           ['dense_8[0][0]']                \n",
            "                                                                                                  \n",
            " flatten_3 (Flatten)            (None, 5)            0           ['input_5[0][0]']                \n",
            "                                                                                                  \n",
            " concatenated_layer (Concatenat  (None, 185)         0           ['flatten_2[0][0]',              \n",
            " e)                                                               'flatten_3[0][0]']              \n",
            "                                                                                                  \n",
            " dense_9 (Dense)                (None, 1)            186         ['concatenated_layer[0][0]']     \n",
            "                                                                                                  \n",
            "==================================================================================================\n",
            "Total params: 1,176\n",
            "Trainable params: 1,176\n",
            "Non-trainable params: 0\n",
            "__________________________________________________________________________________________________\n"
          ]
        }
      ]
    },
    {
      "cell_type": "code",
      "source": [
        "model.compile(loss = \"MeanSquaredError\", optimizer = tf.keras.optimizers.Adam())"
      ],
      "metadata": {
        "id": "7mbTNXLzcLnD"
      },
      "execution_count": null,
      "outputs": []
    },
    {
      "cell_type": "code",
      "source": [
        "history = model.fit([feature1, feature2], y, epochs=20, validation_split = 0.3)"
      ],
      "metadata": {
        "colab": {
          "base_uri": "https://localhost:8080/"
        },
        "id": "wRVoRpzLcWVR",
        "outputId": "3ecfb26d-63d3-4d87-b2a6-b582194dfe98"
      },
      "execution_count": null,
      "outputs": [
        {
          "output_type": "stream",
          "name": "stdout",
          "text": [
            "Epoch 1/20\n",
            "452/452 [==============================] - 3s 5ms/step - loss: 5.2900 - val_loss: 6.5652\n",
            "Epoch 2/20\n",
            "452/452 [==============================] - 2s 4ms/step - loss: 5.2011 - val_loss: 6.5652\n",
            "Epoch 3/20\n",
            "452/452 [==============================] - 2s 4ms/step - loss: 5.2011 - val_loss: 6.5652\n",
            "Epoch 4/20\n",
            "452/452 [==============================] - 2s 4ms/step - loss: 5.2011 - val_loss: 6.5652\n",
            "Epoch 5/20\n",
            "452/452 [==============================] - 2s 4ms/step - loss: 5.2011 - val_loss: 6.5652\n",
            "Epoch 6/20\n",
            "452/452 [==============================] - 2s 4ms/step - loss: 5.2011 - val_loss: 6.5652\n",
            "Epoch 7/20\n",
            "452/452 [==============================] - 2s 4ms/step - loss: 5.2011 - val_loss: 6.5652\n",
            "Epoch 8/20\n",
            "452/452 [==============================] - 2s 4ms/step - loss: 5.2011 - val_loss: 6.5652\n",
            "Epoch 9/20\n",
            "452/452 [==============================] - 2s 4ms/step - loss: 5.2011 - val_loss: 6.5652\n",
            "Epoch 10/20\n",
            "452/452 [==============================] - 2s 4ms/step - loss: 5.2011 - val_loss: 6.5652\n",
            "Epoch 11/20\n",
            "452/452 [==============================] - 2s 4ms/step - loss: 5.2011 - val_loss: 6.5652\n",
            "Epoch 12/20\n",
            "452/452 [==============================] - 2s 4ms/step - loss: 5.2011 - val_loss: 6.5652\n",
            "Epoch 13/20\n",
            "452/452 [==============================] - 2s 4ms/step - loss: 5.2011 - val_loss: 6.5652\n",
            "Epoch 14/20\n",
            "452/452 [==============================] - 2s 4ms/step - loss: 5.2011 - val_loss: 6.5652\n",
            "Epoch 15/20\n",
            "452/452 [==============================] - 2s 4ms/step - loss: 5.2011 - val_loss: 6.5652\n",
            "Epoch 16/20\n",
            "452/452 [==============================] - 2s 4ms/step - loss: 5.2011 - val_loss: 6.5652\n",
            "Epoch 17/20\n",
            "452/452 [==============================] - 2s 4ms/step - loss: 5.2011 - val_loss: 6.5652\n",
            "Epoch 18/20\n",
            "452/452 [==============================] - 2s 5ms/step - loss: 5.2011 - val_loss: 6.5652\n",
            "Epoch 19/20\n",
            "452/452 [==============================] - 2s 4ms/step - loss: 5.2011 - val_loss: 6.5652\n",
            "Epoch 20/20\n",
            "452/452 [==============================] - 2s 4ms/step - loss: 5.2011 - val_loss: 6.5652\n"
          ]
        }
      ]
    },
    {
      "cell_type": "code",
      "source": [
        "sns.set_style(\"darkgrid\")\n",
        "#get the details form the history object\n",
        "loss = history.history['loss']\n",
        "val_loss = history.history['val_loss']\n",
        "\n",
        "epochs = range(1, len(loss) + 1)\n",
        "\n",
        "plt.figure()\n",
        "#Train and validation loss\n",
        "plt.plot(epochs, loss, 'b', label='Training loss')\n",
        "plt.plot(epochs, val_loss, 'r', label='Validation loss')\n",
        "plt.xlabel('Epoch #')\n",
        "plt.ylabel('loss')\n",
        "plt.title('Training and Validation loss')\n",
        "plt.legend()\n",
        "\n",
        "plt.show()"
      ],
      "metadata": {
        "colab": {
          "base_uri": "https://localhost:8080/",
          "height": 295
        },
        "id": "ntQ7AYcudI6T",
        "outputId": "030aedf0-0902-471b-fdf3-05d81b0d5c97"
      },
      "execution_count": null,
      "outputs": [
        {
          "output_type": "display_data",
          "data": {
            "text/plain": [
              "<Figure size 432x288 with 1 Axes>"
            ],
            "image/png": "[encoded data removed]"
          },
          "metadata": {}
        }
      ]
    },
    {
      "cell_type": "code",
      "source": [
        "#In the former model, our validation loss is less than training loss but in the latter, the validation loss is greater than training loss.\n",
        "#In the latter, after the first few epochs there is no major change in either training or validation loss."
      ],
      "metadata": {
        "id": "urnxTL-LOHW1"
      },
      "execution_count": null,
      "outputs": []
    },
    {
      "cell_type": "code",
      "source": [],
      "metadata": {
        "id": "5QDzPiN9Oqnq"
      },
      "execution_count": null,
      "outputs": []
    }
  ]
}